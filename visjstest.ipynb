{
 "cells": [
  {
   "cell_type": "code",
   "execution_count": 1,
   "metadata": {},
   "outputs": [
    {
     "data": {
      "text/plain": [
       "function(  ) ... end"
      ]
     },
     "execution_count": 1,
     "metadata": {},
     "output_type": "execute_result"
    }
   ],
   "source": [
    "plot := function()\n",
    "   local r;\n",
    "   r := \"\\\n",
    "   <div id=\\\"mygraph\\\"></div>\\\n",
    "   <link href=\\\"https://cdnjs.cloudflare.com/ajax/libs/vis/4.21.0/vis.min.css\\\" rel=\\\"stylesheet\\\" type=\\\"text/css\\\" />\\\n",
    "   <script type=\\\"text/javascript\\\">\\\n",
    "   require.config({\\\n",
    "   paths: {\\\n",
    "   vis: 'https://cdnjs.cloudflare.com/ajax/libs/vis/4.21.0/vis.min'\\\n",
    "   }\\\n",
    "   });\\\n",
    "   require(['vis'], function (vis) {\\\n",
    "   var data = null;\\\n",
    "   var graph = null;\\\n",
    "   function custom(x, y) {\\\n",
    "   return (Math.sin(x/50) * Math.cos(y/50) * 50 + 50);\\\n",
    "   };\\\n",
    "   data = new vis.DataSet();\\\n",
    "   var counter = 0;\\\n",
    "   var steps = 50;\\\n",
    "   var axisMax = 314;\\\n",
    "   var axisStep = axisMax / steps;\\\n",
    "   for (var x = 0; x < axisMax; x+=axisStep) {\\\n",
    "   for (var y = 0; y < axisMax; y+=axisStep) {\\\n",
    "   var value = custom(x,y);\\\n",
    "   data.add({id:counter++,x:x,y:y,z:value,style:value});\\\n",
    "   };\\\n",
    "   };\\\n",
    "   var options = {\\\n",
    "   width:  '600px',\\\n",
    "   height: '600px',\\\n",
    "   style: 'surface',\\\n",
    "   showPerspective: true,\\\n",
    "   showGrid: true,\\\n",
    "   showShadow: false,\\\n",
    "   keepAspectRatio: true,\\\n",
    "   verticalRatio: 0.5\\\n",
    "   };\\\n",
    "   var container = document.getElementById('mygraph');\\\n",
    "   graph = new vis.Graph3d(container, data, options);\\\n",
    "   });\\\n",
    "   </script>\";\n",
    "   return rec( json := true\n",
    "             , source := \"gap\"\n",
    "   , data := rec( (\"text/html\") := r ) );\n",
    "end;"
   ]
  },
  {
   "cell_type": "code",
   "execution_count": 2,
   "metadata": {
    "scrolled": true
   },
   "outputs": [
    {
     "data": {
      "text/html": [
       "   <div id=\"mygraph\"></div>   <link href=\"https://cdnjs.cloudflare.com/ajax/libs/vis/4.21.0/vis.min.css\" rel=\"stylesheet\" type=\"text/css\" />   <script type=\"text/javascript\">   require.config({   paths: {   vis: 'https://cdnjs.cloudflare.com/ajax/libs/vis/4.21.0/vis.min'   }   });   require(['vis'], function (vis) {   var data = null;   var graph = null;   function custom(x, y) {   return (Math.sin(x/50) * Math.cos(y/50) * 50 + 50);   };   data = new vis.DataSet();   var counter = 0;   var steps = 50;   var axisMax = 314;   var axisStep = axisMax / steps;   for (var x = 0; x < axisMax; x+=axisStep) {   for (var y = 0; y < axisMax; y+=axisStep) {   var value = custom(x,y);   data.add({id:counter++,x:x,y:y,z:value,style:value});   };   };   var options = {   width:  '600px',   height: '600px',   style: 'surface',   showPerspective: true,   showGrid: true,   showShadow: false,   keepAspectRatio: true,   verticalRatio: 0.5   };   var container = document.getElementById('mygraph');   graph = new vis.Graph3d(container, data, options);   });   </script>"
      ]
     },
     "execution_count": 2,
     "metadata": {},
     "output_type": "execute_result"
    }
   ],
   "source": [
    "plot();"
   ]
  },
  {
   "cell_type": "code",
   "execution_count": 3,
   "metadata": {},
   "outputs": [
    {
     "data": {
      "text/plain": [
       "function( nodes, labels, edges ) ... end"
      ]
     },
     "execution_count": 3,
     "metadata": {},
     "output_type": "execute_result"
    }
   ],
   "source": [
    "graph := function(nodes,labels,edges)\n",
    "    local r, b, sn, se, e, i, nnodes;\n",
    "    b := \"\\\n",
    "        <div id=\\\"mygraph1\\\"></div>\\\n",
    "       <link href=\\\"https://cdnjs.cloudflare.com/ajax/libs/vis/4.21.0/vis.min.css\\\" rel=\\\"stylesheet\\\" type=\\\"text/css\\\" />\\\n",
    "       <script type=\\\"text/javascript\\\">\\\n",
    "       require.config({\\\n",
    "           paths: {\\\n",
    "               vis: 'https://cdnjs.cloudflare.com/ajax/libs/vis/4.21.0/vis.min'\\\n",
    "           }\\\n",
    "       });\\\n",
    "       require(['vis'], function (vis) {\\\n",
    "       var options = {\\\n",
    "       width:  '600px',\\\n",
    "       height: '600px',\\\n",
    "       keepAspectRatio: true,\\\n",
    "       verticalRatio: 0.5\\\n",
    "        };\\ \";\n",
    "    \n",
    "    sn:=\"var nodes = new vis.DataSet([\\ \";\n",
    "    nnodes:=Length(nodes);\n",
    "    for i in [1..nnodes-1] do\n",
    "        sn:=Concatenation(sn, \"{id: \", String(nodes[i]), \", label: '\", String(labels[i]),\"'},\\ \" );\n",
    "    od;\n",
    "    sn:=Concatenation(sn, \"{id: \", String(nodes[nnodes]), \", label: '\", String(labels[nnodes]),\"'}]);\\ \" );\n",
    "\n",
    "    se:=\"var edges = new vis.DataSet([\\ \";\n",
    "    \n",
    "    nedges:=Length(edges);\n",
    "for i in [1..nedges-1] do \n",
    "        se:=Concatenation(se, \"{from: \", String(edges[i][1]), \", to: \", String(edges[i][2]), \"},\\ \");\n",
    "    od;\n",
    "    se:=Concatenation(se, \"{from: \", String(edges[nedges][1]), \", to: \", String(edges[nedges][2]), \"}]);\\ \");\n",
    "\n",
    "    e:=\"var data = {\\\n",
    "            nodes: nodes,\\\n",
    "            edges: edges\\\n",
    "        };\\\n",
    "        var container = document.getElementById('mygraph1');\\\n",
    "        var network = new vis.Network(container, data, options);\\\n",
    "       });\\\n",
    "       </script>\";\n",
    "    \n",
    "    r:=Concatenation(b,sn,se,sn,e);\n",
    "    return rec( json := true\n",
    "                 , source := \"gap\"\n",
    "                , data := rec( (\"text/html\") := r ) );\n",
    "end;"
   ]
  },
  {
   "cell_type": "code",
   "execution_count": 4,
   "metadata": {},
   "outputs": [
    {
     "data": {
      "text/html": [
       "        <div id=\"mygraph1\"></div>       <link href=\"https://cdnjs.cloudflare.com/ajax/libs/vis/4.21.0/vis.min.css\" rel=\"stylesheet\" type=\"text/css\" />       <script type=\"text/javascript\">       require.config({           paths: {               vis: 'https://cdnjs.cloudflare.com/ajax/libs/vis/4.21.0/vis.min'           }       });       require(['vis'], function (vis) {       var options = {       width:  '600px',       height: '600px',       keepAspectRatio: true,       verticalRatio: 0.5        }; var nodes = new vis.DataSet([ {id: 1, label: 'a'}, {id: 2, label: 'b'}, {id: 3, label: 'c'}, {id: 4, label: 'd'}, {id: 5, label: 'e'}]); var edges = new vis.DataSet([ {from: 1, to: 2}, {from: 1, to: 3}, {from: 4, to: 5}, {from: 1, to: 5}]); var nodes = new vis.DataSet([ {id: 1, label: 'a'}, {id: 2, label: 'b'}, {id: 3, label: 'c'}, {id: 4, label: 'd'}, {id: 5, label: 'e'}]); var data = {            nodes: nodes,            edges: edges        };        var container = document.getElementById('mygraph1');        var network = new vis.Network(container, data, options);       });       </script>"
      ]
     },
     "execution_count": 4,
     "metadata": {},
     "output_type": "execute_result"
    }
   ],
   "source": [
    "graph([1,2,3,4,5], [\"a\",\"b\",\"c\",\"d\",\"e\"], [[1,2],[1,3],[4,5],[1,5]]);"
   ]
  },
  {
   "cell_type": "code",
   "execution_count": null,
   "metadata": {},
   "outputs": [],
   "source": []
  }
 ],
 "metadata": {
  "kernelspec": {
   "display_name": "GAP 4 (native)",
   "language": "gap",
   "name": "gap-native"
  },
  "language_info": {
   "codemirror_mode": "gap",
   "file_extension": ".g",
   "mimetype": "text/x-gap",
   "name": "GAP (native)",
   "nbconvert_exporter": "",
   "pygments_lexer": "gap",
   "version": "4.dev"
  }
 },
 "nbformat": 4,
 "nbformat_minor": 2
}
